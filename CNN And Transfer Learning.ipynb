{
 "cells": [
  {
   "cell_type": "code",
   "execution_count": 1,
   "metadata": {},
   "outputs": [],
   "source": [
    "# import the libraries as shown below\n",
    "\n",
    "from tensorflow.keras.layers import Input, Lambda, Dense, Flatten,Conv2D\n",
    "from tensorflow.keras.models import Model\n",
    "from tensorflow.keras.applications.vgg19 import VGG19\n",
    "from tensorflow.keras.applications.resnet50 import preprocess_input\n",
    "from tensorflow.keras.preprocessing import image\n",
    "from tensorflow.keras.preprocessing.image import ImageDataGenerator,load_img\n",
    "from tensorflow.keras.models import Sequential\n",
    "import numpy as np\n",
    "from glob import glob\n",
    "import matplotlib.pyplot as plt"
   ]
  },
  {
   "cell_type": "code",
   "execution_count": 3,
   "metadata": {},
   "outputs": [
    {
     "name": "stdout",
     "output_type": "stream",
     "text": [
      "2.4.1\n"
     ]
    }
   ],
   "source": [
    "import tensorflow as tf\n",
    "print(tf.__version__)"
   ]
  },
  {
   "cell_type": "code",
   "execution_count": 4,
   "metadata": {},
   "outputs": [],
   "source": [
    "# re-size all the images to this\n",
    "IMAGE_SIZE = [224, 224]\n",
    "\n",
    "train_path = \"C:/Users/shapunya vemula/Desktop/dataset/malaria detection/Dataset/Train\"\n",
    "valid_path = \"C:/Users/shapunya vemula/Desktop/dataset/malaria detection/Dataset/Test\""
   ]
  },
  {
   "cell_type": "code",
   "execution_count": 13,
   "metadata": {},
   "outputs": [],
   "source": [
    "# Import the Vgg 19 library as shown below and add preprocessing layer to the front of VGG\n",
    "# Here we will be using imagenet weights\n",
    "\n",
    "vgg19 = VGG19(input_shape=IMAGE_SIZE + [3], weights='imagenet', include_top=False)"
   ]
  },
  {
   "cell_type": "code",
   "execution_count": 6,
   "metadata": {},
   "outputs": [],
   "source": [
    "# don't train existing weights\n",
    "for layer in mobilnet.layers:\n",
    "    layer.trainable = False"
   ]
  },
  {
   "cell_type": "code",
   "execution_count": 11,
   "metadata": {},
   "outputs": [],
   "source": [
    "# useful for getting number of output classes\n",
    "folders = glob('C:/Users/shapunya vemula/Desktop/dataset/malaria detection/Dataset/Train/*')"
   ]
  },
  {
   "cell_type": "code",
   "execution_count": 12,
   "metadata": {},
   "outputs": [
    {
     "data": {
      "text/plain": [
       "['C:/Users/shapunya vemula/Desktop/dataset/malaria detection/Dataset/Train\\\\Parasite',\n",
       " 'C:/Users/shapunya vemula/Desktop/dataset/malaria detection/Dataset/Train\\\\Uninfected']"
      ]
     },
     "execution_count": 12,
     "metadata": {},
     "output_type": "execute_result"
    }
   ],
   "source": [
    "folders"
   ]
  },
  {
   "cell_type": "code",
   "execution_count": 14,
   "metadata": {},
   "outputs": [],
   "source": [
    "# our layers - you can add more if you want\n",
    "x = Flatten()(vgg19.output)"
   ]
  },
  {
   "cell_type": "code",
   "execution_count": 15,
   "metadata": {},
   "outputs": [],
   "source": [
    "prediction = Dense(len(folders), activation='softmax')(x)\n",
    "\n",
    "# create a model object\n",
    "model = Model(inputs=vgg19.input, outputs=prediction)"
   ]
  },
  {
   "cell_type": "code",
   "execution_count": 16,
   "metadata": {},
   "outputs": [
    {
     "name": "stdout",
     "output_type": "stream",
     "text": [
      "Model: \"model\"\n",
      "_________________________________________________________________\n",
      "Layer (type)                 Output Shape              Param #   \n",
      "=================================================================\n",
      "input_2 (InputLayer)         [(None, 224, 224, 3)]     0         \n",
      "_________________________________________________________________\n",
      "block1_conv1 (Conv2D)        (None, 224, 224, 64)      1792      \n",
      "_________________________________________________________________\n",
      "block1_conv2 (Conv2D)        (None, 224, 224, 64)      36928     \n",
      "_________________________________________________________________\n",
      "block1_pool (MaxPooling2D)   (None, 112, 112, 64)      0         \n",
      "_________________________________________________________________\n",
      "block2_conv1 (Conv2D)        (None, 112, 112, 128)     73856     \n",
      "_________________________________________________________________\n",
      "block2_conv2 (Conv2D)        (None, 112, 112, 128)     147584    \n",
      "_________________________________________________________________\n",
      "block2_pool (MaxPooling2D)   (None, 56, 56, 128)       0         \n",
      "_________________________________________________________________\n",
      "block3_conv1 (Conv2D)        (None, 56, 56, 256)       295168    \n",
      "_________________________________________________________________\n",
      "block3_conv2 (Conv2D)        (None, 56, 56, 256)       590080    \n",
      "_________________________________________________________________\n",
      "block3_conv3 (Conv2D)        (None, 56, 56, 256)       590080    \n",
      "_________________________________________________________________\n",
      "block3_conv4 (Conv2D)        (None, 56, 56, 256)       590080    \n",
      "_________________________________________________________________\n",
      "block3_pool (MaxPooling2D)   (None, 28, 28, 256)       0         \n",
      "_________________________________________________________________\n",
      "block4_conv1 (Conv2D)        (None, 28, 28, 512)       1180160   \n",
      "_________________________________________________________________\n",
      "block4_conv2 (Conv2D)        (None, 28, 28, 512)       2359808   \n",
      "_________________________________________________________________\n",
      "block4_conv3 (Conv2D)        (None, 28, 28, 512)       2359808   \n",
      "_________________________________________________________________\n",
      "block4_conv4 (Conv2D)        (None, 28, 28, 512)       2359808   \n",
      "_________________________________________________________________\n",
      "block4_pool (MaxPooling2D)   (None, 14, 14, 512)       0         \n",
      "_________________________________________________________________\n",
      "block5_conv1 (Conv2D)        (None, 14, 14, 512)       2359808   \n",
      "_________________________________________________________________\n",
      "block5_conv2 (Conv2D)        (None, 14, 14, 512)       2359808   \n",
      "_________________________________________________________________\n",
      "block5_conv3 (Conv2D)        (None, 14, 14, 512)       2359808   \n",
      "_________________________________________________________________\n",
      "block5_conv4 (Conv2D)        (None, 14, 14, 512)       2359808   \n",
      "_________________________________________________________________\n",
      "block5_pool (MaxPooling2D)   (None, 7, 7, 512)         0         \n",
      "_________________________________________________________________\n",
      "flatten (Flatten)            (None, 25088)             0         \n",
      "_________________________________________________________________\n",
      "dense (Dense)                (None, 2)                 50178     \n",
      "=================================================================\n",
      "Total params: 20,074,562\n",
      "Trainable params: 20,074,562\n",
      "Non-trainable params: 0\n",
      "_________________________________________________________________\n"
     ]
    }
   ],
   "source": [
    "\n",
    "# view the structure of the model\n",
    "model.summary()"
   ]
  },
  {
   "cell_type": "code",
   "execution_count": 17,
   "metadata": {},
   "outputs": [],
   "source": [
    "from tensorflow.keras.layers import MaxPooling2D"
   ]
  },
  {
   "cell_type": "code",
   "execution_count": 18,
   "metadata": {},
   "outputs": [
    {
     "name": "stdout",
     "output_type": "stream",
     "text": [
      "Model: \"sequential\"\n",
      "_________________________________________________________________\n",
      "Layer (type)                 Output Shape              Param #   \n",
      "=================================================================\n",
      "conv2d (Conv2D)              (None, 224, 224, 16)      208       \n",
      "_________________________________________________________________\n",
      "max_pooling2d (MaxPooling2D) (None, 112, 112, 16)      0         \n",
      "_________________________________________________________________\n",
      "conv2d_1 (Conv2D)            (None, 112, 112, 32)      2080      \n",
      "_________________________________________________________________\n",
      "max_pooling2d_1 (MaxPooling2 (None, 56, 56, 32)        0         \n",
      "_________________________________________________________________\n",
      "conv2d_2 (Conv2D)            (None, 56, 56, 64)        8256      \n",
      "_________________________________________________________________\n",
      "max_pooling2d_2 (MaxPooling2 (None, 28, 28, 64)        0         \n",
      "_________________________________________________________________\n",
      "flatten_1 (Flatten)          (None, 50176)             0         \n",
      "_________________________________________________________________\n",
      "dense_1 (Dense)              (None, 500)               25088500  \n",
      "_________________________________________________________________\n",
      "dense_2 (Dense)              (None, 2)                 1002      \n",
      "=================================================================\n",
      "Total params: 25,100,046\n",
      "Trainable params: 25,100,046\n",
      "Non-trainable params: 0\n",
      "_________________________________________________________________\n"
     ]
    }
   ],
   "source": [
    "### Create Model from scratch using CNN\n",
    "model=Sequential()\n",
    "model.add(Conv2D(filters=16,kernel_size=2,padding=\"same\",activation=\"relu\",input_shape=(224,224,3)))\n",
    "model.add(MaxPooling2D(pool_size=2))\n",
    "model.add(Conv2D(filters=32,kernel_size=2,padding=\"same\",activation =\"relu\"))\n",
    "model.add(MaxPooling2D(pool_size=2))\n",
    "model.add(Conv2D(filters=64,kernel_size=2,padding=\"same\",activation=\"relu\"))\n",
    "model.add(MaxPooling2D(pool_size=2))\n",
    "model.add(Flatten())\n",
    "model.add(Dense(500,activation=\"relu\"))\n",
    "model.add(Dense(2,activation=\"softmax\"))\n",
    "model.summary()"
   ]
  },
  {
   "cell_type": "code",
   "execution_count": 19,
   "metadata": {},
   "outputs": [],
   "source": [
    "\n",
    "# tell the model what cost and optimization method to use\n",
    "model.compile(\n",
    "  loss='categorical_crossentropy',\n",
    "  optimizer='adam',\n",
    "  metrics=['accuracy']\n",
    ")"
   ]
  },
  {
   "cell_type": "code",
   "execution_count": 20,
   "metadata": {},
   "outputs": [],
   "source": [
    "# Use the Image Data Generator to import the images from the dataset\n",
    "from tensorflow.keras.preprocessing.image import ImageDataGenerator\n",
    "\n",
    "train_datagen = ImageDataGenerator(rescale = 1./255,\n",
    "                                   shear_range = 0.2,\n",
    "                                   zoom_range = 0.2,\n",
    "                                   horizontal_flip = True)\n",
    "\n",
    "test_datagen = ImageDataGenerator(rescale = 1./255)"
   ]
  },
  {
   "cell_type": "code",
   "execution_count": 21,
   "metadata": {},
   "outputs": [
    {
     "name": "stdout",
     "output_type": "stream",
     "text": [
      "Found 416 images belonging to 2 classes.\n"
     ]
    }
   ],
   "source": [
    "# Make sure you provide the same target size as initialied for the image size\n",
    "training_set = train_datagen.flow_from_directory(\"C:/Users/shapunya vemula/Desktop/dataset/malaria detection/Dataset/Train\",\n",
    "                                                 target_size = (224, 224),\n",
    "                                                 batch_size = 32,\n",
    "                                                 class_mode = 'categorical')"
   ]
  },
  {
   "cell_type": "code",
   "execution_count": 22,
   "metadata": {},
   "outputs": [
    {
     "data": {
      "text/plain": [
       "<tensorflow.python.keras.preprocessing.image.DirectoryIterator at 0x2ee401c2250>"
      ]
     },
     "execution_count": 22,
     "metadata": {},
     "output_type": "execute_result"
    }
   ],
   "source": [
    "training_set"
   ]
  },
  {
   "cell_type": "code",
   "execution_count": 23,
   "metadata": {},
   "outputs": [
    {
     "name": "stdout",
     "output_type": "stream",
     "text": [
      "Found 134 images belonging to 2 classes.\n"
     ]
    }
   ],
   "source": [
    "test_set = test_datagen.flow_from_directory( \"C:/Users/shapunya vemula/Desktop/dataset/malaria detection/Dataset/Test\",\n",
    "                                            target_size = (224, 224),\n",
    "                                            batch_size = 32,\n",
    "                                            class_mode = 'categorical')"
   ]
  },
  {
   "cell_type": "code",
   "execution_count": 25,
   "metadata": {},
   "outputs": [
    {
     "name": "stderr",
     "output_type": "stream",
     "text": [
      "C:\\Users\\shapunya vemula\\anaconda3\\lib\\site-packages\\tensorflow\\python\\keras\\engine\\training.py:1844: UserWarning: `Model.fit_generator` is deprecated and will be removed in a future version. Please use `Model.fit`, which supports generators.\n",
      "  warnings.warn('`Model.fit_generator` is deprecated and '\n"
     ]
    },
    {
     "name": "stdout",
     "output_type": "stream",
     "text": [
      "Epoch 1/50\n",
      "13/13 [==============================] - 23s 2s/step - loss: 1.9784 - accuracy: 0.4983 - val_loss: 0.7832 - val_accuracy: 0.3358\n",
      "Epoch 2/50\n",
      "13/13 [==============================] - 20s 1s/step - loss: 0.6618 - accuracy: 0.5364 - val_loss: 0.6865 - val_accuracy: 0.6045\n",
      "Epoch 3/50\n",
      "13/13 [==============================] - 18s 1s/step - loss: 0.5652 - accuracy: 0.6806 - val_loss: 0.8009 - val_accuracy: 0.3955\n",
      "Epoch 4/50\n",
      "13/13 [==============================] - 18s 1s/step - loss: 0.4692 - accuracy: 0.7690 - val_loss: 1.0414 - val_accuracy: 0.3806\n",
      "Epoch 5/50\n",
      "13/13 [==============================] - 18s 1s/step - loss: 0.4054 - accuracy: 0.8049 - val_loss: 0.7662 - val_accuracy: 0.5000\n",
      "Epoch 6/50\n",
      "13/13 [==============================] - 18s 1s/step - loss: 0.4080 - accuracy: 0.7955 - val_loss: 0.9053 - val_accuracy: 0.4627\n",
      "Epoch 7/50\n",
      "13/13 [==============================] - 18s 1s/step - loss: 0.3998 - accuracy: 0.8101 - val_loss: 0.6635 - val_accuracy: 0.5896\n",
      "Epoch 8/50\n",
      "13/13 [==============================] - 19s 1s/step - loss: 0.3259 - accuracy: 0.8678 - val_loss: 0.6445 - val_accuracy: 0.6194\n",
      "Epoch 9/50\n",
      "13/13 [==============================] - 18s 1s/step - loss: 0.3232 - accuracy: 0.8748 - val_loss: 0.6862 - val_accuracy: 0.6269\n",
      "Epoch 10/50\n",
      "13/13 [==============================] - 18s 1s/step - loss: 0.2844 - accuracy: 0.8774 - val_loss: 0.5841 - val_accuracy: 0.6940\n",
      "Epoch 11/50\n",
      "13/13 [==============================] - 19s 1s/step - loss: 0.2594 - accuracy: 0.8856 - val_loss: 0.7233 - val_accuracy: 0.7313\n",
      "Epoch 12/50\n",
      "13/13 [==============================] - 19s 1s/step - loss: 0.2565 - accuracy: 0.9030 - val_loss: 0.4560 - val_accuracy: 0.7836\n",
      "Epoch 13/50\n",
      "13/13 [==============================] - 19s 1s/step - loss: 0.3315 - accuracy: 0.8957 - val_loss: 0.4632 - val_accuracy: 0.7612\n",
      "Epoch 14/50\n",
      "13/13 [==============================] - 19s 1s/step - loss: 0.2347 - accuracy: 0.9334 - val_loss: 0.5439 - val_accuracy: 0.7463\n",
      "Epoch 15/50\n",
      "13/13 [==============================] - 19s 1s/step - loss: 0.1760 - accuracy: 0.9459 - val_loss: 0.6142 - val_accuracy: 0.7388\n",
      "Epoch 16/50\n",
      "13/13 [==============================] - 19s 1s/step - loss: 0.1431 - accuracy: 0.9633 - val_loss: 0.5043 - val_accuracy: 0.7687\n",
      "Epoch 17/50\n",
      "13/13 [==============================] - 18s 1s/step - loss: 0.1736 - accuracy: 0.9207 - val_loss: 0.3316 - val_accuracy: 0.8582\n",
      "Epoch 18/50\n",
      "13/13 [==============================] - 18s 1s/step - loss: 0.1679 - accuracy: 0.9467 - val_loss: 0.5676 - val_accuracy: 0.7836\n",
      "Epoch 19/50\n",
      "13/13 [==============================] - 18s 1s/step - loss: 0.1149 - accuracy: 0.9638 - val_loss: 0.4009 - val_accuracy: 0.8134\n",
      "Epoch 20/50\n",
      "13/13 [==============================] - 18s 1s/step - loss: 0.1800 - accuracy: 0.9481 - val_loss: 0.5243 - val_accuracy: 0.8209\n",
      "Epoch 21/50\n",
      "13/13 [==============================] - 18s 1s/step - loss: 0.1213 - accuracy: 0.9608 - val_loss: 0.4194 - val_accuracy: 0.8433\n",
      "Epoch 22/50\n",
      "13/13 [==============================] - 18s 1s/step - loss: 0.1178 - accuracy: 0.9629 - val_loss: 0.8921 - val_accuracy: 0.7164\n",
      "Epoch 23/50\n",
      "13/13 [==============================] - 18s 1s/step - loss: 0.1426 - accuracy: 0.9551 - val_loss: 0.2722 - val_accuracy: 0.8881\n",
      "Epoch 24/50\n",
      "13/13 [==============================] - 19s 1s/step - loss: 0.0620 - accuracy: 0.9919 - val_loss: 0.7133 - val_accuracy: 0.8134\n",
      "Epoch 25/50\n",
      "13/13 [==============================] - 18s 1s/step - loss: 0.2470 - accuracy: 0.9506 - val_loss: 1.0157 - val_accuracy: 0.6045\n",
      "Epoch 26/50\n",
      "13/13 [==============================] - 18s 1s/step - loss: 0.2417 - accuracy: 0.8934 - val_loss: 0.5327 - val_accuracy: 0.7239\n",
      "Epoch 27/50\n",
      "13/13 [==============================] - 18s 1s/step - loss: 0.2152 - accuracy: 0.9436 - val_loss: 0.3479 - val_accuracy: 0.8284\n",
      "Epoch 28/50\n",
      "13/13 [==============================] - 18s 1s/step - loss: 0.1811 - accuracy: 0.9540 - val_loss: 0.5092 - val_accuracy: 0.8284\n",
      "Epoch 29/50\n",
      "13/13 [==============================] - 19s 1s/step - loss: 0.1004 - accuracy: 0.9580 - val_loss: 0.3223 - val_accuracy: 0.8806\n",
      "Epoch 30/50\n",
      "13/13 [==============================] - 19s 1s/step - loss: 0.0651 - accuracy: 0.9670 - val_loss: 0.2997 - val_accuracy: 0.8881\n",
      "Epoch 31/50\n",
      "13/13 [==============================] - 19s 1s/step - loss: 0.0389 - accuracy: 0.9926 - val_loss: 0.3121 - val_accuracy: 0.8955\n",
      "Epoch 32/50\n",
      "13/13 [==============================] - 19s 1s/step - loss: 0.0366 - accuracy: 0.9933 - val_loss: 0.3657 - val_accuracy: 0.8955\n",
      "Epoch 33/50\n",
      "13/13 [==============================] - 19s 1s/step - loss: 0.0343 - accuracy: 0.9826 - val_loss: 0.3156 - val_accuracy: 0.9030\n",
      "Epoch 34/50\n",
      "13/13 [==============================] - 18s 1s/step - loss: 0.0426 - accuracy: 0.9843 - val_loss: 0.2980 - val_accuracy: 0.9030\n",
      "Epoch 35/50\n",
      "13/13 [==============================] - 18s 1s/step - loss: 0.0316 - accuracy: 0.9881 - val_loss: 0.4900 - val_accuracy: 0.8657\n",
      "Epoch 36/50\n",
      "13/13 [==============================] - 19s 1s/step - loss: 0.0404 - accuracy: 0.9902 - val_loss: 0.2877 - val_accuracy: 0.9030\n",
      "Epoch 37/50\n",
      "13/13 [==============================] - 18s 1s/step - loss: 0.0294 - accuracy: 0.9923 - val_loss: 0.9301 - val_accuracy: 0.8358\n",
      "Epoch 38/50\n",
      "13/13 [==============================] - 18s 1s/step - loss: 0.0692 - accuracy: 0.9686 - val_loss: 0.4521 - val_accuracy: 0.8731\n",
      "Epoch 39/50\n",
      "13/13 [==============================] - 18s 1s/step - loss: 0.0724 - accuracy: 0.9738 - val_loss: 0.3616 - val_accuracy: 0.8955\n",
      "Epoch 40/50\n",
      "13/13 [==============================] - 18s 1s/step - loss: 0.0268 - accuracy: 0.9934 - val_loss: 0.3183 - val_accuracy: 0.8955\n",
      "Epoch 41/50\n",
      "13/13 [==============================] - 18s 1s/step - loss: 0.0503 - accuracy: 0.9857 - val_loss: 0.4880 - val_accuracy: 0.8731\n",
      "Epoch 42/50\n",
      "13/13 [==============================] - 18s 1s/step - loss: 0.0452 - accuracy: 0.9871 - val_loss: 0.3424 - val_accuracy: 0.9030\n",
      "Epoch 43/50\n",
      "13/13 [==============================] - 18s 1s/step - loss: 0.0513 - accuracy: 0.9914 - val_loss: 0.4407 - val_accuracy: 0.8657\n",
      "Epoch 44/50\n",
      "13/13 [==============================] - 18s 1s/step - loss: 0.0728 - accuracy: 0.9786 - val_loss: 0.5475 - val_accuracy: 0.8657\n",
      "Epoch 45/50\n",
      "13/13 [==============================] - 18s 1s/step - loss: 0.0354 - accuracy: 0.9861 - val_loss: 0.4291 - val_accuracy: 0.8955\n",
      "Epoch 46/50\n",
      "13/13 [==============================] - 18s 1s/step - loss: 0.0218 - accuracy: 0.9891 - val_loss: 0.4738 - val_accuracy: 0.8955\n",
      "Epoch 47/50\n",
      "13/13 [==============================] - 18s 1s/step - loss: 0.0188 - accuracy: 0.9982 - val_loss: 0.3602 - val_accuracy: 0.8955\n",
      "Epoch 48/50\n",
      "13/13 [==============================] - 18s 1s/step - loss: 0.0265 - accuracy: 0.9932 - val_loss: 0.3868 - val_accuracy: 0.8955\n",
      "Epoch 49/50\n",
      "13/13 [==============================] - 18s 1s/step - loss: 0.0221 - accuracy: 0.9927 - val_loss: 0.7342 - val_accuracy: 0.8582\n",
      "Epoch 50/50\n",
      "13/13 [==============================] - 18s 1s/step - loss: 0.0546 - accuracy: 0.9849 - val_loss: 0.4399 - val_accuracy: 0.9030\n"
     ]
    }
   ],
   "source": [
    "# fit the model\n",
    "# Run the cell. It will take some time to execute\n",
    "r = model.fit_generator(\n",
    "  training_set,\n",
    "  validation_data=test_set,\n",
    "  epochs=50,\n",
    "  steps_per_epoch=len(training_set),\n",
    "  validation_steps=len(test_set)\n",
    ")"
   ]
  },
  {
   "cell_type": "code",
   "execution_count": 26,
   "metadata": {},
   "outputs": [
    {
     "data": {
      "image/png": "[encoded data removed]",
      "text/plain": [
       "<Figure size 432x288 with 1 Axes>"
      ]
     },
     "metadata": {
      "needs_background": "light"
     },
     "output_type": "display_data"
    },
    {
     "data": {
      "image/png": "[encoded data removed]",
      "text/plain": [
       "<Figure size 432x288 with 1 Axes>"
      ]
     },
     "metadata": {
      "needs_background": "light"
     },
     "output_type": "display_data"
    },
    {
     "data": {
      "text/plain": [
       "<Figure size 432x288 with 0 Axes>"
      ]
     },
     "metadata": {},
     "output_type": "display_data"
    }
   ],
   "source": [
    "# plot the loss\n",
    "plt.plot(r.history['loss'], label='train loss')\n",
    "plt.plot(r.history['val_loss'], label='val loss')\n",
    "plt.legend()\n",
    "plt.show()\n",
    "plt.savefig('LossVal_loss')\n",
    "\n",
    "# plot the accuracy\n",
    "plt.plot(r.history['accuracy'], label='train acc')\n",
    "plt.plot(r.history['val_accuracy'], label='val acc')\n",
    "plt.legend()\n",
    "plt.show()\n",
    "plt.savefig('AccVal_acc')"
   ]
  },
  {
   "cell_type": "code",
   "execution_count": 27,
   "metadata": {},
   "outputs": [],
   "source": [
    "# save it as a h5 file\n",
    "\n",
    "\n",
    "from tensorflow.keras.models import load_model\n",
    "\n",
    "model.save('model_vgg19.h5')"
   ]
  },
  {
   "cell_type": "code",
   "execution_count": 28,
   "metadata": {},
   "outputs": [],
   "source": [
    "y_pred = model.predict(test_set)"
   ]
  },
  {
   "cell_type": "code",
   "execution_count": 29,
   "metadata": {},
   "outputs": [
    {
     "data": {
      "text/plain": [
       "array([[1.00000000e+00, 4.08431200e-09],\n",
       "       [2.73264042e-04, 9.99726713e-01],\n",
       "       [9.37053740e-01, 6.29462823e-02],\n",
       "       [1.00000000e+00, 4.77588913e-10],\n",
       "       [4.69755832e-05, 9.99953032e-01],\n",
       "       [3.02156695e-05, 9.99969840e-01],\n",
       "       [1.00000000e+00, 2.56533041e-11],\n",
       "       [9.99999881e-01, 1.45140774e-07],\n",
       "       [1.00000000e+00, 6.63523094e-18],\n",
       "       [1.34468656e-02, 9.86553133e-01],\n",
       "       [9.60148391e-05, 9.99903917e-01],\n",
       "       [1.00000000e+00, 2.29517712e-16],\n",
       "       [9.99997020e-01, 3.01536056e-06],\n",
       "       [9.99999642e-01, 3.70949522e-07],\n",
       "       [9.99972463e-01, 2.75045131e-05],\n",
       "       [8.92877579e-05, 9.99910712e-01],\n",
       "       [2.21919821e-04, 9.99778092e-01],\n",
       "       [2.19817623e-03, 9.97801840e-01],\n",
       "       [1.00000000e+00, 1.87464154e-16],\n",
       "       [1.00000000e+00, 1.71102069e-23],\n",
       "       [9.99997735e-01, 2.30774481e-06],\n",
       "       [3.23586399e-04, 9.99676466e-01],\n",
       "       [9.49372712e-04, 9.99050677e-01],\n",
       "       [9.99985933e-01, 1.40170314e-05],\n",
       "       [1.14838724e-04, 9.99885201e-01],\n",
       "       [1.00000000e+00, 1.57674831e-29],\n",
       "       [1.00691793e-02, 9.89930749e-01],\n",
       "       [1.00000000e+00, 1.22777707e-20],\n",
       "       [9.99999642e-01, 3.25207907e-07],\n",
       "       [1.00000000e+00, 2.42526810e-12],\n",
       "       [5.58634549e-02, 9.44136560e-01],\n",
       "       [5.55306375e-01, 4.44693625e-01],\n",
       "       [9.99995351e-01, 4.60733145e-06],\n",
       "       [1.63771721e-04, 9.99836206e-01],\n",
       "       [1.00000000e+00, 1.63916405e-30],\n",
       "       [1.00000000e+00, 6.18932822e-11],\n",
       "       [9.99990582e-01, 9.36834203e-06],\n",
       "       [3.19467217e-04, 9.99680519e-01],\n",
       "       [1.00000000e+00, 7.75003728e-10],\n",
       "       [4.51424676e-05, 9.99954820e-01],\n",
       "       [3.36955930e-03, 9.96630490e-01],\n",
       "       [1.00000000e+00, 4.41685373e-08],\n",
       "       [1.00000000e+00, 1.52416746e-10],\n",
       "       [1.25042172e-02, 9.87495780e-01],\n",
       "       [9.99999166e-01, 8.07628055e-07],\n",
       "       [3.62653627e-05, 9.99963760e-01],\n",
       "       [1.00000000e+00, 3.05799475e-08],\n",
       "       [9.99649048e-01, 3.50956805e-04],\n",
       "       [8.23505761e-05, 9.99917626e-01],\n",
       "       [1.00000000e+00, 7.12846049e-09],\n",
       "       [1.33223599e-04, 9.99866724e-01],\n",
       "       [3.10212170e-04, 9.99689817e-01],\n",
       "       [1.00000000e+00, 3.66656761e-10],\n",
       "       [9.14382617e-05, 9.99908566e-01],\n",
       "       [1.00000000e+00, 1.70477268e-08],\n",
       "       [4.34394780e-04, 9.99565542e-01],\n",
       "       [2.20558184e-04, 9.99779403e-01],\n",
       "       [1.00000000e+00, 3.32538467e-12],\n",
       "       [9.99999881e-01, 5.97788272e-08],\n",
       "       [2.06367532e-03, 9.97936368e-01],\n",
       "       [1.00000000e+00, 1.21379274e-12],\n",
       "       [9.99999881e-01, 1.50247274e-07],\n",
       "       [1.00000000e+00, 3.50936437e-17],\n",
       "       [1.93635735e-03, 9.98063624e-01],\n",
       "       [5.06780634e-04, 9.99493241e-01],\n",
       "       [2.67025316e-05, 9.99973297e-01],\n",
       "       [6.51959004e-03, 9.93480444e-01],\n",
       "       [1.00000000e+00, 7.98029587e-10],\n",
       "       [2.60993664e-04, 9.99738991e-01],\n",
       "       [2.91499964e-05, 9.99970794e-01],\n",
       "       [1.00000000e+00, 3.40605033e-19],\n",
       "       [3.45561816e-03, 9.96544421e-01],\n",
       "       [1.00000000e+00, 3.71847269e-29],\n",
       "       [7.81506021e-03, 9.92184937e-01],\n",
       "       [3.06147740e-05, 9.99969363e-01],\n",
       "       [9.99999523e-01, 5.35058462e-07],\n",
       "       [9.99929667e-01, 7.03843689e-05],\n",
       "       [1.00000000e+00, 3.19687565e-08],\n",
       "       [1.00000000e+00, 3.78463808e-14],\n",
       "       [9.99999523e-01, 4.54887925e-07],\n",
       "       [4.34883055e-04, 9.99565065e-01],\n",
       "       [6.82880287e-04, 9.99317169e-01],\n",
       "       [9.99999046e-01, 9.90178819e-07],\n",
       "       [1.00000000e+00, 5.24614414e-08],\n",
       "       [1.00000000e+00, 1.76025952e-28],\n",
       "       [3.09029613e-02, 9.69097078e-01],\n",
       "       [1.00000000e+00, 1.18154642e-08],\n",
       "       [5.13103092e-04, 9.99486923e-01],\n",
       "       [9.99999285e-01, 7.02058344e-07],\n",
       "       [1.00000000e+00, 2.76753206e-22],\n",
       "       [2.41304093e-04, 9.99758661e-01],\n",
       "       [1.00000000e+00, 1.85680746e-37],\n",
       "       [9.99989152e-01, 1.08420063e-05],\n",
       "       [9.99999881e-01, 6.58629062e-08],\n",
       "       [1.00000000e+00, 8.89034890e-09],\n",
       "       [2.40904167e-02, 9.75909531e-01],\n",
       "       [4.97149631e-05, 9.99950290e-01],\n",
       "       [1.00000000e+00, 4.34447140e-12],\n",
       "       [3.64250620e-04, 9.99635696e-01],\n",
       "       [8.45938087e-01, 1.54061958e-01],\n",
       "       [1.00000000e+00, 2.67707675e-16],\n",
       "       [9.99999285e-01, 7.10563029e-07],\n",
       "       [1.00000000e+00, 2.01472190e-08],\n",
       "       [2.35591826e-04, 9.99764383e-01],\n",
       "       [9.99869823e-01, 1.30177708e-04],\n",
       "       [9.99998331e-01, 1.63014579e-06],\n",
       "       [1.00000000e+00, 3.20197237e-11],\n",
       "       [9.03761131e-04, 9.99096274e-01],\n",
       "       [9.27774727e-01, 7.22252280e-02],\n",
       "       [9.99854922e-01, 1.45065438e-04],\n",
       "       [4.07056032e-05, 9.99959350e-01],\n",
       "       [1.00000000e+00, 7.74070086e-10],\n",
       "       [9.99999881e-01, 8.63986500e-08],\n",
       "       [1.00000000e+00, 2.86513553e-16],\n",
       "       [1.55046946e-04, 9.99844909e-01],\n",
       "       [1.00000000e+00, 7.97994917e-13],\n",
       "       [3.92342045e-04, 9.99607742e-01],\n",
       "       [2.17538414e-04, 9.99782503e-01],\n",
       "       [1.00000000e+00, 3.08284775e-09],\n",
       "       [9.86644804e-01, 1.33552365e-02],\n",
       "       [5.04032299e-02, 9.49596822e-01],\n",
       "       [9.48113561e-01, 5.18864579e-02],\n",
       "       [3.26549774e-03, 9.96734440e-01],\n",
       "       [2.27179364e-04, 9.99772847e-01],\n",
       "       [1.64137393e-01, 8.35862577e-01],\n",
       "       [1.00000000e+00, 1.28913720e-11],\n",
       "       [5.95443089e-05, 9.99940395e-01],\n",
       "       [1.08846941e-03, 9.98911500e-01],\n",
       "       [9.99907732e-01, 9.22347390e-05],\n",
       "       [2.55259394e-04, 9.99744713e-01],\n",
       "       [9.99941587e-01, 5.84305126e-05],\n",
       "       [9.99999881e-01, 8.48931947e-08],\n",
       "       [9.99999881e-01, 6.76026346e-08],\n",
       "       [1.00000000e+00, 1.03460385e-13]], dtype=float32)"
      ]
     },
     "execution_count": 29,
     "metadata": {},
     "output_type": "execute_result"
    }
   ],
   "source": [
    "y_pred"
   ]
  },
  {
   "cell_type": "code",
   "execution_count": 30,
   "metadata": {},
   "outputs": [],
   "source": [
    "import numpy as np\n",
    "y_pred = np.argmax(y_pred, axis=1)"
   ]
  },
  {
   "cell_type": "code",
   "execution_count": 31,
   "metadata": {},
   "outputs": [
    {
     "data": {
      "text/plain": [
       "array([0, 1, 0, 0, 1, 1, 0, 0, 0, 1, 1, 0, 0, 0, 0, 1, 1, 1, 0, 0, 0, 1,\n",
       "       1, 0, 1, 0, 1, 0, 0, 0, 1, 0, 0, 1, 0, 0, 0, 1, 0, 1, 1, 0, 0, 1,\n",
       "       0, 1, 0, 0, 1, 0, 1, 1, 0, 1, 0, 1, 1, 0, 0, 1, 0, 0, 0, 1, 1, 1,\n",
       "       1, 0, 1, 1, 0, 1, 0, 1, 1, 0, 0, 0, 0, 0, 1, 1, 0, 0, 0, 1, 0, 1,\n",
       "       0, 0, 1, 0, 0, 0, 0, 1, 1, 0, 1, 0, 0, 0, 0, 1, 0, 0, 0, 1, 0, 0,\n",
       "       1, 0, 0, 0, 1, 0, 1, 1, 0, 0, 1, 0, 1, 1, 1, 0, 1, 1, 0, 1, 0, 0,\n",
       "       0, 0], dtype=int64)"
      ]
     },
     "execution_count": 31,
     "metadata": {},
     "output_type": "execute_result"
    }
   ],
   "source": [
    "y_pred"
   ]
  },
  {
   "cell_type": "code",
   "execution_count": 32,
   "metadata": {},
   "outputs": [],
   "source": [
    "from tensorflow.keras.models import load_model\n",
    "from tensorflow.keras.preprocessing import image"
   ]
  },
  {
   "cell_type": "code",
   "execution_count": 33,
   "metadata": {},
   "outputs": [],
   "source": [
    "model=load_model('model_vgg19.h5')"
   ]
  },
  {
   "cell_type": "code",
   "execution_count": 34,
   "metadata": {},
   "outputs": [],
   "source": [
    "img=image.load_img(\"C:/Users/shapunya vemula/Desktop/dataset/malaria detection/Dataset/Test/Uninfected/2.png\",target_size=(224,224))"
   ]
  },
  {
   "cell_type": "code",
   "execution_count": 35,
   "metadata": {},
   "outputs": [
    {
     "data": {
      "text/plain": [
       "array([[[0., 0., 0.],\n",
       "        [0., 0., 0.],\n",
       "        [0., 0., 0.],\n",
       "        ...,\n",
       "        [0., 0., 0.],\n",
       "        [0., 0., 0.],\n",
       "        [0., 0., 0.]],\n",
       "\n",
       "       [[0., 0., 0.],\n",
       "        [0., 0., 0.],\n",
       "        [0., 0., 0.],\n",
       "        ...,\n",
       "        [0., 0., 0.],\n",
       "        [0., 0., 0.],\n",
       "        [0., 0., 0.]],\n",
       "\n",
       "       [[0., 0., 0.],\n",
       "        [0., 0., 0.],\n",
       "        [0., 0., 0.],\n",
       "        ...,\n",
       "        [0., 0., 0.],\n",
       "        [0., 0., 0.],\n",
       "        [0., 0., 0.]],\n",
       "\n",
       "       ...,\n",
       "\n",
       "       [[0., 0., 0.],\n",
       "        [0., 0., 0.],\n",
       "        [0., 0., 0.],\n",
       "        ...,\n",
       "        [0., 0., 0.],\n",
       "        [0., 0., 0.],\n",
       "        [0., 0., 0.]],\n",
       "\n",
       "       [[0., 0., 0.],\n",
       "        [0., 0., 0.],\n",
       "        [0., 0., 0.],\n",
       "        ...,\n",
       "        [0., 0., 0.],\n",
       "        [0., 0., 0.],\n",
       "        [0., 0., 0.]],\n",
       "\n",
       "       [[0., 0., 0.],\n",
       "        [0., 0., 0.],\n",
       "        [0., 0., 0.],\n",
       "        ...,\n",
       "        [0., 0., 0.],\n",
       "        [0., 0., 0.],\n",
       "        [0., 0., 0.]]], dtype=float32)"
      ]
     },
     "execution_count": 35,
     "metadata": {},
     "output_type": "execute_result"
    }
   ],
   "source": [
    "x=image.img_to_array(img)\n",
    "x"
   ]
  },
  {
   "cell_type": "code",
   "execution_count": 36,
   "metadata": {},
   "outputs": [
    {
     "data": {
      "text/plain": [
       "(224, 224, 3)"
      ]
     },
     "execution_count": 36,
     "metadata": {},
     "output_type": "execute_result"
    }
   ],
   "source": [
    "x.shape"
   ]
  },
  {
   "cell_type": "code",
   "execution_count": 37,
   "metadata": {},
   "outputs": [],
   "source": [
    "x=x/255"
   ]
  },
  {
   "cell_type": "code",
   "execution_count": 38,
   "metadata": {},
   "outputs": [
    {
     "data": {
      "text/plain": [
       "(1, 224, 224, 3)"
      ]
     },
     "execution_count": 38,
     "metadata": {},
     "output_type": "execute_result"
    }
   ],
   "source": [
    "x=np.expand_dims(x,axis=0)\n",
    "img_data=preprocess_input(x)\n",
    "img_data.shape"
   ]
  },
  {
   "cell_type": "code",
   "execution_count": 39,
   "metadata": {},
   "outputs": [
    {
     "data": {
      "text/plain": [
       "array([[0., 1.]], dtype=float32)"
      ]
     },
     "execution_count": 39,
     "metadata": {},
     "output_type": "execute_result"
    }
   ],
   "source": [
    "model.predict(img_data)"
   ]
  },
  {
   "cell_type": "code",
   "execution_count": 40,
   "metadata": {},
   "outputs": [],
   "source": [
    "a=np.argmax(model.predict(img_data), axis=1)"
   ]
  },
  {
   "cell_type": "code",
   "execution_count": 41,
   "metadata": {},
   "outputs": [
    {
     "name": "stdout",
     "output_type": "stream",
     "text": [
      "Uninfected\n"
     ]
    }
   ],
   "source": [
    "if(a==1):\n",
    "    print(\"Uninfected\")\n",
    "else:\n",
    "    print(\"Infected\")"
   ]
  }
 ],
 "metadata": {
  "kernelspec": {
   "display_name": "Python 3",
   "language": "python",
   "name": "python3"
  },
  "language_info": {
   "codemirror_mode": {
    "name": "ipython",
    "version": 3
   },
   "file_extension": ".py",
   "mimetype": "text/x-python",
   "name": "python",
   "nbconvert_exporter": "python",
   "pygments_lexer": "ipython3",
   "version": "3.8.5"
  }
 },
 "nbformat": 4,
 "nbformat_minor": 4
}
